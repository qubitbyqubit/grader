{
 "cells": [
  {
   "cell_type": "markdown",
   "metadata": {},
   "source": [
    "# Day 5: Leet Code Challenge\n",
    "\n",
    "Hello and welcome to this example homework assignment! Each question is composed of a markdown cell describing the problerm and two python cells where you can write and check your answer(s) as needed! Good luck!"
   ]
  },
  {
   "cell_type": "markdown",
   "metadata": {},
   "source": [
    "### Question 1: Roman To Integer (Easy)\n",
    "\n",
    "Given a roman numeral, convert it to an integer.\n",
    "\n",
    "You may write your solution below."
   ]
  },
  {
   "cell_type": "code",
   "execution_count": 11,
   "metadata": {},
   "outputs": [],
   "source": [
    "def problem1(s: str) -> int:\n",
    "    raise NotImplementedError # Delete this line and start writing your code here!"
   ]
  },
  {
   "cell_type": "markdown",
   "metadata": {},
   "source": [
    "**All done? To check your answers, run the following cell:**"
   ]
  },
  {
   "cell_type": "code",
   "execution_count": 12,
   "metadata": {},
   "outputs": [],
   "source": [
    "## DO NOT EDIT THIS CELL.\n",
    "# from tcs import grader as g\n",
    "# g.grade(problem1())"
   ]
  },
  {
   "cell_type": "markdown",
   "metadata": {},
   "source": [
    "### Question 2: Ransom Note (Easy)\n",
    "\n",
    "Given two strings ransomNote and magazine, return true if ransomNote can be constructed by using the letters from magazine and false otherwise. Each letter in magazine can only be used once in ransomNote.\n",
    "\n",
    "You may write your solution below."
   ]
  },
  {
   "cell_type": "code",
   "execution_count": 13,
   "metadata": {},
   "outputs": [],
   "source": [
    "def problem2(ransomNote: str, magazine: str) -> bool:\n",
    "    raise NotImplementedError # Delete this line and start writing your code here!"
   ]
  },
  {
   "cell_type": "markdown",
   "metadata": {},
   "source": [
    "**All done? To check your answers, run the following cell:**"
   ]
  },
  {
   "cell_type": "code",
   "execution_count": 14,
   "metadata": {},
   "outputs": [],
   "source": [
    "## DO NOT EDIT THIS CELL.\n",
    "# from tcs import grader as g\n",
    "# g.grade(problem2())"
   ]
  },
  {
   "cell_type": "markdown",
   "metadata": {},
   "source": [
    "**This is the end of the assignment.**\n",
    "\n",
    "To submit your assignment to the gradebook, **run the following cell BEFORE closing your IDE:**"
   ]
  },
  {
   "cell_type": "code",
   "execution_count": 15,
   "metadata": {},
   "outputs": [],
   "source": [
    "## DO NOT EDIT THIS CELL.\n",
    "# from tcs import grader as g\n",
    "# g.submit()"
   ]
  }
 ],
 "metadata": {
  "kernelspec": {
   "display_name": "Python 3 (ipykernel)",
   "language": "python",
   "name": "python3"
  },
  "language_info": {
   "codemirror_mode": {
    "name": "ipython",
    "version": 3
   },
   "file_extension": ".py",
   "mimetype": "text/x-python",
   "name": "python",
   "nbconvert_exporter": "python",
   "pygments_lexer": "ipython3",
   "version": "3.9.5"
  },
  "vscode": {
   "interpreter": {
    "hash": "aee8b7b246df8f9039afb4144a1f6fd8d2ca17a180786b69acc140d282b71a49"
   }
  }
 },
 "nbformat": 4,
 "nbformat_minor": 4
}
