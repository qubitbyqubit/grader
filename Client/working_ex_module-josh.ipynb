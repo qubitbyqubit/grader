{
 "cells": [
  {
   "cell_type": "markdown",
   "metadata": {},
   "source": [
    "# Day N: Example Module\n",
    "\n",
    "Hello! Welcome to this example homework module! \n",
    "\n",
    "(As a reminder, this is a development stage module. As of now, run a local flask server at 127.0.0.0. Do this by nagivating to the Server directory and entering 'flask run' into the command terminal. Ensure that all requirements are installed.)\n",
    "\n",
    "Each question is composed of a markdown cell describing the task and two python cells where you can write and check your answer(s) as needed! Good luck!\n",
    "\n",
    "**Enter your student_id as a string of integers below and run the cell. You will not be able to check or submit any assignments without it!**"
   ]
  },
  {
   "cell_type": "code",
   "execution_count": 2,
   "metadata": {},
   "outputs": [
    {
     "name": "stdout",
     "output_type": "stream",
     "text": [
      "Hello Test Student Name! Grader is ready for assignment 001.\n"
     ]
    }
   ],
   "source": [
    "STUDENT_ID = 'Enter your Student ID here.' # To test the grader, enter '001'.\n",
    "\n",
    "# IGNORE THE FOLLOWING.\n",
    "from grader import create_grader\n",
    "check = create_grader(globals(), \"001\", STUDENT_ID)"
   ]
  },
  {
   "cell_type": "markdown",
   "metadata": {},
   "source": [
    "### Question 1: Roman To Integer (Easy)\n",
    "\n",
    "Given a roman numeral, convert it to an integer.\n",
    "\n",
    "You may write your solution below."
   ]
  },
  {
   "cell_type": "code",
   "execution_count": 3,
   "metadata": {},
   "outputs": [],
   "source": [
    "def roman_to_int(s: str) -> int:\n",
    "    raise NotImplementedError # Delete this line and start writing your code here!\n",
    "    # TODO"
   ]
  },
  {
   "cell_type": "markdown",
   "metadata": {},
   "source": [
    "**All done? To check your answers, run the following cell:**"
   ]
  },
  {
   "cell_type": "code",
   "execution_count": 4,
   "metadata": {},
   "outputs": [
    {
     "name": "stdout",
     "output_type": "stream",
     "text": [
      "Problem 1: 0%\n",
      "Exception! There was an error with your function contents.\n",
      "Exception! There was an error with your function contents.\n",
      "Exception! There was an error with your function contents.\n",
      "\n"
     ]
    },
    {
     "data": {
      "text/plain": [
       "'Grading completed.'"
      ]
     },
     "execution_count": 4,
     "metadata": {},
     "output_type": "execute_result"
    }
   ],
   "source": [
    "#Run this cell to check your answers!\n",
    "check()"
   ]
  },
  {
   "cell_type": "markdown",
   "metadata": {},
   "source": [
    "### Question 2: List (Easy)\n",
    "\n",
    "Return a list containing the numbers 1-5.\n",
    "\n",
    "You may write your solution below."
   ]
  },
  {
   "cell_type": "code",
   "execution_count": 5,
   "metadata": {},
   "outputs": [],
   "source": [
    "def return_list() -> list:\n",
    "    raise NotImplementedError # Delete this line and start writing your code here!\n",
    "    # TODO"
   ]
  },
  {
   "cell_type": "markdown",
   "metadata": {},
   "source": [
    "**All done? To check your answers, run the following cell:**"
   ]
  },
  {
   "cell_type": "code",
   "execution_count": 6,
   "metadata": {},
   "outputs": [
    {
     "name": "stdout",
     "output_type": "stream",
     "text": [
      "Problem 1: 0%\n",
      "Exception! There was an error with your function contents.\n",
      "Exception! There was an error with your function contents.\n",
      "Exception! There was an error with your function contents.\n",
      "\n",
      "Problem 2: 0%\n",
      "Exception! There was an error with your function contents.\n",
      "Exception! There was an error with your function contents.\n",
      "\n"
     ]
    },
    {
     "data": {
      "text/plain": [
       "'Grading completed.'"
      ]
     },
     "execution_count": 6,
     "metadata": {},
     "output_type": "execute_result"
    }
   ],
   "source": [
    "#Run this cell to check your answers!\n",
    "check()"
   ]
  },
  {
   "cell_type": "markdown",
   "metadata": {},
   "source": [
    "**This is the end of the assignment.**\n",
    "\n",
    "To submit your assignment to the gradebook, **run the following cell BEFORE closing your IDE:**"
   ]
  },
  {
   "cell_type": "code",
   "execution_count": 8,
   "metadata": {},
   "outputs": [
    {
     "ename": "ValueError",
     "evalue": "Something went wrong...",
     "output_type": "error",
     "traceback": [
      "\u001b[0;31m---------------------------------------------------------------------------\u001b[0m",
      "\u001b[0;31mMissingSchema\u001b[0m                             Traceback (most recent call last)",
      "File \u001b[0;32m~/Desktop/tcs/grader/Client/grader.py:71\u001b[0m, in \u001b[0;36mcreate_grader.__use_api\u001b[0;34m(self, uri)\u001b[0m\n\u001b[1;32m     70\u001b[0m \u001b[39mtry\u001b[39;00m:\n\u001b[0;32m---> 71\u001b[0m \trequest \u001b[39m=\u001b[39m requests\u001b[39m.\u001b[39;49mget(uri)\n\u001b[1;32m     72\u001b[0m \t\u001b[39mreturn\u001b[39;00m request\n",
      "File \u001b[0;32m/Library/Frameworks/Python.framework/Versions/3.10/lib/python3.10/site-packages/requests/api.py:75\u001b[0m, in \u001b[0;36mget\u001b[0;34m(url, params, **kwargs)\u001b[0m\n\u001b[1;32m     65\u001b[0m \u001b[39mr\u001b[39m\u001b[39m\"\"\"Sends a GET request.\u001b[39;00m\n\u001b[1;32m     66\u001b[0m \n\u001b[1;32m     67\u001b[0m \u001b[39m:param url: URL for the new :class:`Request` object.\u001b[39;00m\n\u001b[0;32m   (...)\u001b[0m\n\u001b[1;32m     72\u001b[0m \u001b[39m:rtype: requests.Response\u001b[39;00m\n\u001b[1;32m     73\u001b[0m \u001b[39m\"\"\"\u001b[39;00m\n\u001b[0;32m---> 75\u001b[0m \u001b[39mreturn\u001b[39;00m request(\u001b[39m'\u001b[39;49m\u001b[39mget\u001b[39;49m\u001b[39m'\u001b[39;49m, url, params\u001b[39m=\u001b[39;49mparams, \u001b[39m*\u001b[39;49m\u001b[39m*\u001b[39;49mkwargs)\n",
      "File \u001b[0;32m/Library/Frameworks/Python.framework/Versions/3.10/lib/python3.10/site-packages/requests/api.py:61\u001b[0m, in \u001b[0;36mrequest\u001b[0;34m(method, url, **kwargs)\u001b[0m\n\u001b[1;32m     60\u001b[0m \u001b[39mwith\u001b[39;00m sessions\u001b[39m.\u001b[39mSession() \u001b[39mas\u001b[39;00m session:\n\u001b[0;32m---> 61\u001b[0m     \u001b[39mreturn\u001b[39;00m session\u001b[39m.\u001b[39;49mrequest(method\u001b[39m=\u001b[39;49mmethod, url\u001b[39m=\u001b[39;49murl, \u001b[39m*\u001b[39;49m\u001b[39m*\u001b[39;49mkwargs)\n",
      "File \u001b[0;32m/Library/Frameworks/Python.framework/Versions/3.10/lib/python3.10/site-packages/requests/sessions.py:515\u001b[0m, in \u001b[0;36mSession.request\u001b[0;34m(self, method, url, params, data, headers, cookies, files, auth, timeout, allow_redirects, proxies, hooks, stream, verify, cert, json)\u001b[0m\n\u001b[1;32m    503\u001b[0m req \u001b[39m=\u001b[39m Request(\n\u001b[1;32m    504\u001b[0m     method\u001b[39m=\u001b[39mmethod\u001b[39m.\u001b[39mupper(),\n\u001b[1;32m    505\u001b[0m     url\u001b[39m=\u001b[39murl,\n\u001b[0;32m   (...)\u001b[0m\n\u001b[1;32m    513\u001b[0m     hooks\u001b[39m=\u001b[39mhooks,\n\u001b[1;32m    514\u001b[0m )\n\u001b[0;32m--> 515\u001b[0m prep \u001b[39m=\u001b[39m \u001b[39mself\u001b[39;49m\u001b[39m.\u001b[39;49mprepare_request(req)\n\u001b[1;32m    517\u001b[0m proxies \u001b[39m=\u001b[39m proxies \u001b[39mor\u001b[39;00m {}\n",
      "File \u001b[0;32m/Library/Frameworks/Python.framework/Versions/3.10/lib/python3.10/site-packages/requests/sessions.py:443\u001b[0m, in \u001b[0;36mSession.prepare_request\u001b[0;34m(self, request)\u001b[0m\n\u001b[1;32m    442\u001b[0m p \u001b[39m=\u001b[39m PreparedRequest()\n\u001b[0;32m--> 443\u001b[0m p\u001b[39m.\u001b[39;49mprepare(\n\u001b[1;32m    444\u001b[0m     method\u001b[39m=\u001b[39;49mrequest\u001b[39m.\u001b[39;49mmethod\u001b[39m.\u001b[39;49mupper(),\n\u001b[1;32m    445\u001b[0m     url\u001b[39m=\u001b[39;49mrequest\u001b[39m.\u001b[39;49murl,\n\u001b[1;32m    446\u001b[0m     files\u001b[39m=\u001b[39;49mrequest\u001b[39m.\u001b[39;49mfiles,\n\u001b[1;32m    447\u001b[0m     data\u001b[39m=\u001b[39;49mrequest\u001b[39m.\u001b[39;49mdata,\n\u001b[1;32m    448\u001b[0m     json\u001b[39m=\u001b[39;49mrequest\u001b[39m.\u001b[39;49mjson,\n\u001b[1;32m    449\u001b[0m     headers\u001b[39m=\u001b[39;49mmerge_setting(request\u001b[39m.\u001b[39;49mheaders, \u001b[39mself\u001b[39;49m\u001b[39m.\u001b[39;49mheaders, dict_class\u001b[39m=\u001b[39;49mCaseInsensitiveDict),\n\u001b[1;32m    450\u001b[0m     params\u001b[39m=\u001b[39;49mmerge_setting(request\u001b[39m.\u001b[39;49mparams, \u001b[39mself\u001b[39;49m\u001b[39m.\u001b[39;49mparams),\n\u001b[1;32m    451\u001b[0m     auth\u001b[39m=\u001b[39;49mmerge_setting(auth, \u001b[39mself\u001b[39;49m\u001b[39m.\u001b[39;49mauth),\n\u001b[1;32m    452\u001b[0m     cookies\u001b[39m=\u001b[39;49mmerged_cookies,\n\u001b[1;32m    453\u001b[0m     hooks\u001b[39m=\u001b[39;49mmerge_hooks(request\u001b[39m.\u001b[39;49mhooks, \u001b[39mself\u001b[39;49m\u001b[39m.\u001b[39;49mhooks),\n\u001b[1;32m    454\u001b[0m )\n\u001b[1;32m    455\u001b[0m \u001b[39mreturn\u001b[39;00m p\n",
      "File \u001b[0;32m/Library/Frameworks/Python.framework/Versions/3.10/lib/python3.10/site-packages/requests/models.py:318\u001b[0m, in \u001b[0;36mPreparedRequest.prepare\u001b[0;34m(self, method, url, headers, files, data, params, auth, cookies, hooks, json)\u001b[0m\n\u001b[1;32m    317\u001b[0m \u001b[39mself\u001b[39m\u001b[39m.\u001b[39mprepare_method(method)\n\u001b[0;32m--> 318\u001b[0m \u001b[39mself\u001b[39;49m\u001b[39m.\u001b[39;49mprepare_url(url, params)\n\u001b[1;32m    319\u001b[0m \u001b[39mself\u001b[39m\u001b[39m.\u001b[39mprepare_headers(headers)\n",
      "File \u001b[0;32m/Library/Frameworks/Python.framework/Versions/3.10/lib/python3.10/site-packages/requests/models.py:392\u001b[0m, in \u001b[0;36mPreparedRequest.prepare_url\u001b[0;34m(self, url, params)\u001b[0m\n\u001b[1;32m    390\u001b[0m     error \u001b[39m=\u001b[39m error\u001b[39m.\u001b[39mformat(to_native_string(url, \u001b[39m'\u001b[39m\u001b[39mutf8\u001b[39m\u001b[39m'\u001b[39m))\n\u001b[0;32m--> 392\u001b[0m     \u001b[39mraise\u001b[39;00m MissingSchema(error)\n\u001b[1;32m    394\u001b[0m \u001b[39mif\u001b[39;00m \u001b[39mnot\u001b[39;00m host:\n",
      "\u001b[0;31mMissingSchema\u001b[0m: Invalid URL '/check_id/1': No scheme supplied. Perhaps you meant http:///check_id/1?",
      "\nDuring handling of the above exception, another exception occurred:\n",
      "\u001b[0;31mValueError\u001b[0m                                Traceback (most recent call last)",
      "\u001b[1;32m/Users/josh/Desktop/tcs/grader/Client/ex_assignment.ipynb Cell 12'\u001b[0m in \u001b[0;36m<cell line: 2>\u001b[0;34m()\u001b[0m\n\u001b[1;32m      <a href='vscode-notebook-cell:/Users/josh/Desktop/tcs/grader/Client/ex_assignment.ipynb#ch0000011?line=0'>1</a>\u001b[0m \u001b[39m# Run this cell to submit your file and auto-grade to Canvas.\u001b[39;00m\n\u001b[0;32m----> <a href='vscode-notebook-cell:/Users/josh/Desktop/tcs/grader/Client/ex_assignment.ipynb#ch0000011?line=1'>2</a>\u001b[0m check\u001b[39m.\u001b[39;49msubmit()\n",
      "File \u001b[0;32m~/Desktop/tcs/grader/Client/grader.py:82\u001b[0m, in \u001b[0;36mcreate_grader.submit\u001b[0;34m(self)\u001b[0m\n\u001b[1;32m     79\u001b[0m given_id \u001b[39m=\u001b[39m \u001b[39minput\u001b[39m(\u001b[39m\"\u001b[39m\u001b[39mWhat is your student ID?\u001b[39m\u001b[39m\"\u001b[39m)\n\u001b[1;32m     81\u001b[0m \u001b[39m# Verify that the ID number exists and get student name for the given ID number\u001b[39;00m\n\u001b[0;32m---> 82\u001b[0m student_name \u001b[39m=\u001b[39m \u001b[39mself\u001b[39;49m\u001b[39m.\u001b[39;49m__use_api(\u001b[39mf\u001b[39;49m\u001b[39m\"\u001b[39;49m\u001b[39m{\u001b[39;49;00mgrader_url\u001b[39m}\u001b[39;49;00m\u001b[39m/check_id/\u001b[39;49m\u001b[39m{\u001b[39;49;00mgiven_id\u001b[39m}\u001b[39;49;00m\u001b[39m\"\u001b[39;49m)\n\u001b[1;32m     83\u001b[0m \u001b[39mif\u001b[39;00m student_name \u001b[39mis\u001b[39;00m \u001b[39mnot\u001b[39;00m \u001b[39mNone\u001b[39;00m:\n\u001b[1;32m     84\u001b[0m \tconfirm \u001b[39m=\u001b[39m \u001b[39minput\u001b[39m(\u001b[39mf\u001b[39m\u001b[39m\"\u001b[39m\u001b[39mConfirm you are: \u001b[39m\u001b[39m{\u001b[39;00mstudent_name\u001b[39m}\u001b[39;00m\u001b[39m (Y/N)\u001b[39m\u001b[39m\"\u001b[39m)\n",
      "File \u001b[0;32m~/Desktop/tcs/grader/Client/grader.py:74\u001b[0m, in \u001b[0;36mcreate_grader.__use_api\u001b[0;34m(self, uri)\u001b[0m\n\u001b[1;32m     72\u001b[0m \t\u001b[39mreturn\u001b[39;00m request\n\u001b[1;32m     73\u001b[0m \u001b[39mexcept\u001b[39;00m:\n\u001b[0;32m---> 74\u001b[0m \t\u001b[39mraise\u001b[39;00m \u001b[39mValueError\u001b[39;00m(\u001b[39m\"\u001b[39m\u001b[39mSomething went wrong...\u001b[39m\u001b[39m\"\u001b[39m)\n",
      "\u001b[0;31mValueError\u001b[0m: Something went wrong..."
     ]
    }
   ],
   "source": [
    "# Run this cell to submit your file and auto-score to Canvas. (TO BE IMPLEMENTED ON THE FRONT/BACK-END STILL.)\n",
    "check.submit()"
   ]
  }
 ],
 "metadata": {
  "kernelspec": {
   "display_name": "Python 3 (ipykernel)",
   "language": "python",
   "name": "python3"
  },
  "language_info": {
   "codemirror_mode": {
    "name": "ipython",
    "version": 3
   },
   "file_extension": ".py",
   "mimetype": "text/x-python",
   "name": "python",
   "nbconvert_exporter": "python",
   "pygments_lexer": "ipython3",
   "version": "3.10.4"
  },
  "vscode": {
   "interpreter": {
    "hash": "aee8b7b246df8f9039afb4144a1f6fd8d2ca17a180786b69acc140d282b71a49"
   }
  }
 },
 "nbformat": 4,
 "nbformat_minor": 4
}
