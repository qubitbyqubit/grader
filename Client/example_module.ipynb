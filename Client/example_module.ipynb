{
 "cells": [
  {
   "cell_type": "code",
   "execution_count": 40,
   "id": "017ebf11",
   "metadata": {},
   "outputs": [
    {
     "name": "stdout",
     "output_type": "stream",
     "text": [
      "Grader ready!\n"
     ]
    }
   ],
   "source": [
    "# Class stuff\n",
    "import numpy as np\n",
    "\n",
    "# Our grader\n",
    "from grader import create_grader\n",
    "check = create_grader(globals(), \"001\")"
   ]
  },
  {
   "cell_type": "code",
   "execution_count": 28,
   "id": "2473c921",
   "metadata": {},
   "outputs": [],
   "source": [
    "glob = globals()"
   ]
  },
  {
   "cell_type": "code",
   "execution_count": null,
   "id": "1dec4c73",
   "metadata": {},
   "outputs": [],
   "source": [
    "for problem, test_cases in problems:\n",
    "    for inp, output in test_cases:\n",
    "        problem[\"variable_name\"](inp) == output   "
   ]
  },
  {
   "cell_type": "code",
   "execution_count": 33,
   "id": "a4df7b93",
   "metadata": {},
   "outputs": [],
   "source": [
    "test_variable = \"hello\""
   ]
  },
  {
   "cell_type": "code",
   "execution_count": 37,
   "id": "ac69537e",
   "metadata": {},
   "outputs": [
    {
     "data": {
      "text/plain": [
       "10"
      ]
     },
     "execution_count": 37,
     "metadata": {},
     "output_type": "execute_result"
    }
   ],
   "source": [
    "glob[\"problem_one\"](5)"
   ]
  },
  {
   "cell_type": "code",
   "execution_count": 41,
   "id": "00affa73",
   "metadata": {},
   "outputs": [
    {
     "name": "stdout",
     "output_type": "stream",
     "text": [
      "All questions look good!\n"
     ]
    }
   ],
   "source": [
    "check()"
   ]
  },
  {
   "cell_type": "code",
   "execution_count": 35,
   "id": "0cbee11b",
   "metadata": {},
   "outputs": [],
   "source": [
    "def problem_one(number):\n",
    "    #TODO is double number\n",
    "    doubled = number*2\n",
    "    return doubled\n",
    "    "
   ]
  },
  {
   "cell_type": "code",
   "execution_count": 9,
   "id": "80d1cb5d",
   "metadata": {},
   "outputs": [],
   "source": [
    "import requests\n",
    "import pickle\n",
    "import json\n",
    "import base64"
   ]
  },
  {
   "cell_type": "code",
   "execution_count": 7,
   "id": "c27c3bd7",
   "metadata": {},
   "outputs": [],
   "source": [
    "def test_func(integer):\n",
    "    return integer+integer\n",
    "\n",
    "testList = []\n",
    "for i in range(0,10):\n",
    "    testList.append(i)\n",
    "    \n",
    "pickle_func = pickle.dumps(test_func)"
   ]
  },
  {
   "cell_type": "code",
   "execution_count": 10,
   "id": "1ba4d400",
   "metadata": {},
   "outputs": [],
   "source": [
    "encoded_pickle = base64.b64encode(pickle_func)"
   ]
  },
  {
   "cell_type": "code",
   "execution_count": 89,
   "id": "4ee8f452",
   "metadata": {},
   "outputs": [
    {
     "data": {
      "text/plain": [
       "<Response [200]>"
      ]
     },
     "execution_count": 89,
     "metadata": {},
     "output_type": "execute_result"
    }
   ],
   "source": [
    "data = {\"foo\": 1000, \"bar\": \"value\", \"list\": testList}\n"
   ]
  },
  {
   "cell_type": "code",
   "execution_count": 12,
   "id": "616af99b",
   "metadata": {},
   "outputs": [],
   "source": [
    "to_send = {\"req\": encoded_pickle}"
   ]
  },
  {
   "cell_type": "code",
   "execution_count": 63,
   "id": "d9410381",
   "metadata": {},
   "outputs": [
    {
     "data": {
      "text/plain": [
       "<Response [200]>"
      ]
     },
     "execution_count": 63,
     "metadata": {},
     "output_type": "execute_result"
    }
   ],
   "source": [
    "# Send \n",
    "url = \"http://127.0.0.1:5000/001/001\"\n",
    "r = requests.post(url, data=to_send)\n",
    "r"
   ]
  },
  {
   "cell_type": "code",
   "execution_count": 51,
   "id": "2b7dbf7d",
   "metadata": {},
   "outputs": [
    {
     "data": {
      "text/plain": [
       "[{'problem_number': 1,\n",
       "  'variable_name': 'var1',\n",
       "  'checking_type': 'test_case',\n",
       "  'checking_data': [{'input': 'III', 'output': 3},\n",
       "   {'input': 'LVIII', 'output': 58},\n",
       "   {'input': 'MCMXCIV', 'output': 1994}]},\n",
       " {'problem_number': 2,\n",
       "  'variable_name': 'var2',\n",
       "  'checking_type': 'equality check',\n",
       "  'checking_data': [{'solution': ['this', 'is', 'one', 'solution']},\n",
       "   {'solution': ['this', 'is', 'another', 'solution']}]}]"
      ]
     },
     "execution_count": 51,
     "metadata": {},
     "output_type": "execute_result"
    }
   ],
   "source": [
    "raw_json[\"problems\"]"
   ]
  },
  {
   "cell_type": "code",
   "execution_count": null,
   "id": "103f62b5",
   "metadata": {},
   "outputs": [],
   "source": []
  }
 ],
 "metadata": {
  "kernelspec": {
   "display_name": "Python 3 (ipykernel)",
   "language": "python",
   "name": "python3"
  },
  "language_info": {
   "codemirror_mode": {
    "name": "ipython",
    "version": 3
   },
   "file_extension": ".py",
   "mimetype": "text/x-python",
   "name": "python",
   "nbconvert_exporter": "python",
   "pygments_lexer": "ipython3",
   "version": "3.9.5"
  }
 },
 "nbformat": 4,
 "nbformat_minor": 5
}
