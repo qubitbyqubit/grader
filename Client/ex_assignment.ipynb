{
 "cells": [
  {
   "cell_type": "markdown",
   "metadata": {},
   "source": [
    "# Day 5: Leet Code Challenge\n",
    "\n",
    "Hello and welcome to this example homework assignment! Each question is composed of a markdown cell describing the problerm and two python cells where you can write and check your answer(s) as needed! Good luck!\n",
    "\n",
    "**Enter your student_id as a string of integers below and run the cell. You will not be able to check or submit any assignments without it!**"
   ]
  },
  {
   "cell_type": "code",
   "execution_count": 1,
   "metadata": {},
   "outputs": [],
   "source": [
    "student_id = '0'\n",
    "\n",
    "#DO NOT EDIT BELOW THIS LINE\n",
    "from grader import create_grader"
   ]
  },
  {
   "cell_type": "markdown",
   "metadata": {},
   "source": [
    "### Question 1: Roman To Integer (Easy)\n",
    "\n",
    "Given a roman numeral, convert it to an integer.\n",
    "\n",
    "You may write your solution below."
   ]
  },
  {
   "cell_type": "code",
   "execution_count": 2,
   "metadata": {},
   "outputs": [],
   "source": [
    "def roman_to_int(s: str) -> int:\n",
    "    raise NotImplementedError # Delete this line and start writing your code here!"
   ]
  },
  {
   "cell_type": "markdown",
   "metadata": {},
   "source": [
    "**All done? To check your answers, run the following cell:**"
   ]
  },
  {
   "cell_type": "code",
   "execution_count": 3,
   "metadata": {},
   "outputs": [
    {
     "name": "stdout",
     "output_type": "stream",
     "text": [
      "Error with grader\n"
     ]
    },
    {
     "data": {
      "text/plain": [
       "'False'"
      ]
     },
     "execution_count": 3,
     "metadata": {},
     "output_type": "execute_result"
    }
   ],
   "source": [
    "#Run this cell to check your answers!\n",
    "check = create_grader(globals(), \"001\", student_id)\n",
    "check()"
   ]
  },
  {
   "cell_type": "markdown",
   "metadata": {},
   "source": [
    "### Question 2: List (Easy)\n",
    "\n",
    "Return a list containing the numbers 1-5.\n",
    "\n",
    "You may write your solution below."
   ]
  },
  {
   "cell_type": "code",
   "execution_count": 2,
   "metadata": {},
   "outputs": [],
   "source": [
    "def return_list() -> bool:\n",
    "    raise NotImplementedError # Delete this line and start writing your code here!"
   ]
  },
  {
   "cell_type": "markdown",
   "metadata": {},
   "source": [
    "**All done? To check your answers, run the following cell:**"
   ]
  },
  {
   "cell_type": "code",
   "execution_count": 5,
   "metadata": {},
   "outputs": [
    {
     "name": "stdout",
     "output_type": "stream",
     "text": [
      "Error with grader\n"
     ]
    },
    {
     "ename": "NotImplementedError",
     "evalue": "Still working on this. Please dont change. - Josh",
     "output_type": "error",
     "traceback": [
      "\u001b[0;31m---------------------------------------------------------------------------\u001b[0m",
      "\u001b[0;31mNotImplementedError\u001b[0m                       Traceback (most recent call last)",
      "\u001b[1;32m/Users/josh/Desktop/tcs/grader/Client/ex_assignment.ipynb Cell 10'\u001b[0m in \u001b[0;36m<cell line: 3>\u001b[0;34m()\u001b[0m\n\u001b[1;32m      <a href='vscode-notebook-cell:/Users/josh/Desktop/tcs/grader/Client/ex_assignment.ipynb#ch0000009?line=0'>1</a>\u001b[0m \u001b[39m#Run this cell to check your answers!\u001b[39;00m\n\u001b[1;32m      <a href='vscode-notebook-cell:/Users/josh/Desktop/tcs/grader/Client/ex_assignment.ipynb#ch0000009?line=1'>2</a>\u001b[0m check \u001b[39m=\u001b[39m create_grader(\u001b[39mglobals\u001b[39m(), \u001b[39m\"\u001b[39m\u001b[39m001\u001b[39m\u001b[39m\"\u001b[39m, student_id)\n\u001b[0;32m----> <a href='vscode-notebook-cell:/Users/josh/Desktop/tcs/grader/Client/ex_assignment.ipynb#ch0000009?line=2'>3</a>\u001b[0m check()\n",
      "File \u001b[0;32m~/Desktop/tcs/grader/Client/grader.py:46\u001b[0m, in \u001b[0;36mcreate_grader.__call__\u001b[0;34m(self)\u001b[0m\n\u001b[1;32m     42\u001b[0m \t\u001b[39mraise\u001b[39;00m \u001b[39mException\u001b[39;00m(\u001b[39m'\u001b[39m\u001b[39mError checking responses.\u001b[39m\u001b[39m'\u001b[39m)\n\u001b[1;32m     44\u001b[0m \u001b[39m# step 2: TODO\u001b[39;00m\n\u001b[0;32m---> 46\u001b[0m \u001b[39mraise\u001b[39;00m \u001b[39mNotImplementedError\u001b[39;00m(\u001b[39m'\u001b[39m\u001b[39mStill working on this. Please dont change. - Josh\u001b[39m\u001b[39m'\u001b[39m)\n",
      "\u001b[0;31mNotImplementedError\u001b[0m: Still working on this. Please dont change. - Josh"
     ]
    }
   ],
   "source": [
    "#Run this cell to check your answers!\n",
    "check = create_grader(globals(), \"001\", student_id)\n",
    "check()"
   ]
  },
  {
   "cell_type": "markdown",
   "metadata": {},
   "source": [
    "**This is the end of the assignment.**\n",
    "\n",
    "To submit your assignment to the gradebook, **run the following cell BEFORE closing your IDE:**"
   ]
  },
  {
   "cell_type": "code",
   "execution_count": 15,
   "metadata": {},
   "outputs": [],
   "source": [
    "# Run this cell to submit your file and auto-grade to Canvas.\n",
    "check.submit()"
   ]
  }
 ],
 "metadata": {
  "kernelspec": {
   "display_name": "Python 3 (ipykernel)",
   "language": "python",
   "name": "python3"
  },
  "language_info": {
   "codemirror_mode": {
    "name": "ipython",
    "version": 3
   },
   "file_extension": ".py",
   "mimetype": "text/x-python",
   "name": "python",
   "nbconvert_exporter": "python",
   "pygments_lexer": "ipython3",
   "version": "3.10.4"
  },
  "vscode": {
   "interpreter": {
    "hash": "aee8b7b246df8f9039afb4144a1f6fd8d2ca17a180786b69acc140d282b71a49"
   }
  }
 },
 "nbformat": 4,
 "nbformat_minor": 4
}
