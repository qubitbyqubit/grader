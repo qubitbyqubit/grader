{
 "cells": [
  {
   "cell_type": "code",
   "execution_count": 1,
   "id": "017ebf11",
   "metadata": {},
   "outputs": [],
   "source": [
    "# Class stuff\n",
    "import numpy as np\n",
    "\n",
    "# Our grader\n",
    "from grader import create_grader"
   ]
  },
  {
   "cell_type": "code",
   "execution_count": 90,
   "id": "2473c921",
   "metadata": {},
   "outputs": [
    {
     "name": "stdout",
     "output_type": "stream",
     "text": [
      "Grader ready!\n"
     ]
    }
   ],
   "source": [
    "check = create_grader(globals(), \"001\")"
   ]
  },
  {
   "cell_type": "code",
   "execution_count": null,
   "id": "0cbee11b",
   "metadata": {},
   "outputs": [],
   "source": [
    "check()"
   ]
  },
  {
   "cell_type": "code",
   "execution_count": 17,
   "id": "80d1cb5d",
   "metadata": {},
   "outputs": [],
   "source": [
    "import requests\n",
    "import json"
   ]
  },
  {
   "cell_type": "code",
   "execution_count": 52,
   "id": "c27c3bd7",
   "metadata": {},
   "outputs": [],
   "source": [
    "def test_func(integer):\n",
    "    return integer+integer\n",
    "\n",
    "testList = []\n",
    "for i in range(0,10):\n",
    "    testList.append(i)\n",
    "    \n",
    "pickle_func = pickle.dumps(test_func)"
   ]
  },
  {
   "cell_type": "code",
   "execution_count": 89,
   "id": "4ee8f452",
   "metadata": {},
   "outputs": [
    {
     "data": {
      "text/plain": [
       "<Response [200]>"
      ]
     },
     "execution_count": 89,
     "metadata": {},
     "output_type": "execute_result"
    }
   ],
   "source": [
    "data = {\"foo\": 1000, \"bar\": \"value\", \"list\": testList}\n",
    "url = \"http://127.0.0.1:5000/check_answers/\"\n",
    "r = requests.post(url, data={\"req\": json.dumps(data)})\n",
    "r"
   ]
  },
  {
   "cell_type": "code",
   "execution_count": null,
   "id": "d9410381",
   "metadata": {},
   "outputs": [],
   "source": []
  }
 ],
 "metadata": {
  "kernelspec": {
   "display_name": "Python 3 (ipykernel)",
   "language": "python",
   "name": "python3"
  },
  "language_info": {
   "codemirror_mode": {
    "name": "ipython",
    "version": 3
   },
   "file_extension": ".py",
   "mimetype": "text/x-python",
   "name": "python",
   "nbconvert_exporter": "python",
   "pygments_lexer": "ipython3",
   "version": "3.9.5"
  }
 },
 "nbformat": 4,
 "nbformat_minor": 5
}
