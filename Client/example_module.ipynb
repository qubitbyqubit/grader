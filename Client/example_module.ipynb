{
 "cells": [
  {
   "cell_type": "code",
   "execution_count": 1,
   "id": "017ebf11",
   "metadata": {},
   "outputs": [
    {
     "name": "stdout",
     "output_type": "stream",
     "text": [
      "Hello Test Student Name! Grader is ready for assignment 001.\n"
     ]
    }
   ],
   "source": [
    "# Please fill in your student_id as a string of integers. You will not be able to check or submit any assignments without it!\n",
    "student_id = '001'\n",
    "\n",
    "import numpy as np\n",
    "\n",
    "def problem_one(number):\n",
    "    #TODO is double number\n",
    "    doubled = number*2\n",
    "    return doubled\n",
    "\n",
    "# Our grader\n",
    "from grader import create_grader\n",
    "check = create_grader(globals(), \"001\", student_id)"
   ]
  },
  {
   "cell_type": "code",
   "execution_count": 2,
   "id": "00affa73",
   "metadata": {},
   "outputs": [
    {
     "ename": "NotImplementedError",
     "evalue": "Josh is still working on this. I have an idea.",
     "output_type": "error",
     "traceback": [
      "\u001b[0;31m---------------------------------------------------------------------------\u001b[0m",
      "\u001b[0;31mNotImplementedError\u001b[0m                       Traceback (most recent call last)",
      "\u001b[1;32m/Users/josh/Desktop/tcs/grader/Client/example_module.ipynb Cell 2'\u001b[0m in \u001b[0;36m<cell line: 1>\u001b[0;34m()\u001b[0m\n\u001b[0;32m----> <a href='vscode-notebook-cell:/Users/josh/Desktop/tcs/grader/Client/example_module.ipynb#ch0000003?line=0'>1</a>\u001b[0m check()\n",
      "File \u001b[0;32m~/Desktop/tcs/grader/Client/grader.py:34\u001b[0m, in \u001b[0;36mcreate_grader.__call__\u001b[0;34m(self)\u001b[0m\n\u001b[1;32m     23\u001b[0m \u001b[39mdef\u001b[39;00m \u001b[39m__call__\u001b[39m(\u001b[39mself\u001b[39m):\n\u001b[1;32m     24\u001b[0m \t\u001b[39m# This is run when answers should be checked\u001b[39;00m\n\u001b[1;32m     25\u001b[0m \t\u001b[39m# TODO\u001b[39;00m\n\u001b[0;32m   (...)\u001b[0m\n\u001b[1;32m     31\u001b[0m \t\u001b[39m#\t\t\t\t\t\t5. the server will encode the object and depickle it.\u001b[39;00m\n\u001b[1;32m     32\u001b[0m \t\u001b[39m#\t\t\t\t\t\t6. the server will grade the answers.\u001b[39;00m\n\u001b[0;32m---> 34\u001b[0m \t\u001b[39mraise\u001b[39;00m \u001b[39mNotImplementedError\u001b[39;00m(\u001b[39m'\u001b[39m\u001b[39mJosh is still working on this. I have an idea.\u001b[39m\u001b[39m'\u001b[39m)\n",
      "\u001b[0;31mNotImplementedError\u001b[0m: Josh is still working on this. I have an idea."
     ]
    }
   ],
   "source": [
    "check()"
   ]
  },
  {
   "cell_type": "code",
   "execution_count": 3,
   "id": "2473c921",
   "metadata": {},
   "outputs": [],
   "source": [
    "glob = globals()"
   ]
  },
  {
   "cell_type": "code",
   "execution_count": 4,
   "id": "ac69537e",
   "metadata": {},
   "outputs": [
    {
     "data": {
      "text/plain": [
       "10"
      ]
     },
     "execution_count": 4,
     "metadata": {},
     "output_type": "execute_result"
    }
   ],
   "source": [
    "glob[\"problem_one\"](5)"
   ]
  },
  {
   "cell_type": "code",
   "execution_count": 7,
   "id": "80d1cb5d",
   "metadata": {},
   "outputs": [],
   "source": [
    "import requests\n",
    "import pickle\n",
    "import json\n",
    "import base64"
   ]
  },
  {
   "cell_type": "code",
   "execution_count": 6,
   "id": "c27c3bd7",
   "metadata": {},
   "outputs": [],
   "source": [
    "def test_func(integer):\n",
    "    return integer+integer\n",
    "\n",
    "testList = []\n",
    "for i in range(0,10):\n",
    "    testList.append(i)\n",
    "    \n",
    "pickle_func = pickle.dumps(test_func)"
   ]
  },
  {
   "cell_type": "code",
   "execution_count": 7,
   "id": "1ba4d400",
   "metadata": {},
   "outputs": [],
   "source": [
    "encoded_pickle = base64.b64encode(pickle_func)"
   ]
  },
  {
   "cell_type": "code",
   "execution_count": 8,
   "id": "4ee8f452",
   "metadata": {},
   "outputs": [],
   "source": [
    "data = {\"foo\": 1000, \"bar\": \"value\", \"list\": testList}\n"
   ]
  },
  {
   "cell_type": "code",
   "execution_count": 9,
   "id": "616af99b",
   "metadata": {},
   "outputs": [],
   "source": [
    "to_send = {\"req\": encoded_pickle}"
   ]
  },
  {
   "cell_type": "code",
   "execution_count": 8,
   "id": "d9410381",
   "metadata": {},
   "outputs": [
    {
     "ename": "NameError",
     "evalue": "name 'to_send' is not defined",
     "output_type": "error",
     "traceback": [
      "\u001b[0;31m---------------------------------------------------------------------------\u001b[0m",
      "\u001b[0;31mNameError\u001b[0m                                 Traceback (most recent call last)",
      "\u001b[1;32m/Users/josh/Desktop/tcs/grader/Client/example_module.ipynb Cell 8'\u001b[0m in \u001b[0;36m<cell line: 3>\u001b[0;34m()\u001b[0m\n\u001b[1;32m      <a href='vscode-notebook-cell:/Users/josh/Desktop/tcs/grader/Client/example_module.ipynb#ch0000007?line=0'>1</a>\u001b[0m \u001b[39m# Send \u001b[39;00m\n\u001b[1;32m      <a href='vscode-notebook-cell:/Users/josh/Desktop/tcs/grader/Client/example_module.ipynb#ch0000007?line=1'>2</a>\u001b[0m url \u001b[39m=\u001b[39m \u001b[39m\"\u001b[39m\u001b[39mhttp://127.0.0.1:5000/001/001\u001b[39m\u001b[39m\"\u001b[39m\n\u001b[0;32m----> <a href='vscode-notebook-cell:/Users/josh/Desktop/tcs/grader/Client/example_module.ipynb#ch0000007?line=2'>3</a>\u001b[0m r \u001b[39m=\u001b[39m requests\u001b[39m.\u001b[39mpost(url, data\u001b[39m=\u001b[39mto_send)\n\u001b[1;32m      <a href='vscode-notebook-cell:/Users/josh/Desktop/tcs/grader/Client/example_module.ipynb#ch0000007?line=3'>4</a>\u001b[0m r\u001b[39m.\u001b[39mjson()\n",
      "\u001b[0;31mNameError\u001b[0m: name 'to_send' is not defined"
     ]
    }
   ],
   "source": [
    "# Send \n",
    "url = \"http://127.0.0.1:5000/001/001\"\n",
    "r = requests.post(url, data=to_send)\n",
    "r.json()"
   ]
  },
  {
   "cell_type": "code",
   "execution_count": null,
   "id": "2b7dbf7d",
   "metadata": {},
   "outputs": [
    {
     "data": {
      "text/plain": [
       "[{'problem_number': 1,\n",
       "  'variable_name': 'var1',\n",
       "  'checking_type': 'test_case',\n",
       "  'checking_data': [{'input': 'III', 'output': 3},\n",
       "   {'input': 'LVIII', 'output': 58},\n",
       "   {'input': 'MCMXCIV', 'output': 1994}]},\n",
       " {'problem_number': 2,\n",
       "  'variable_name': 'var2',\n",
       "  'checking_type': 'equality check',\n",
       "  'checking_data': [{'solution': ['this', 'is', 'one', 'solution']},\n",
       "   {'solution': ['this', 'is', 'another', 'solution']}]}]"
      ]
     },
     "execution_count": 51,
     "metadata": {},
     "output_type": "execute_result"
    }
   ],
   "source": [
    "raw_json[\"problems\"]"
   ]
  },
  {
   "cell_type": "code",
   "execution_count": null,
   "id": "103f62b5",
   "metadata": {},
   "outputs": [],
   "source": []
  }
 ],
 "metadata": {
  "kernelspec": {
   "display_name": "Python 3.10.4 64-bit",
   "language": "python",
   "name": "python3"
  },
  "language_info": {
   "codemirror_mode": {
    "name": "ipython",
    "version": 3
   },
   "file_extension": ".py",
   "mimetype": "text/x-python",
   "name": "python",
   "nbconvert_exporter": "python",
   "pygments_lexer": "ipython3",
   "version": "3.10.4"
  },
  "vscode": {
   "interpreter": {
    "hash": "aee8b7b246df8f9039afb4144a1f6fd8d2ca17a180786b69acc140d282b71a49"
   }
  }
 },
 "nbformat": 4,
 "nbformat_minor": 5
}
