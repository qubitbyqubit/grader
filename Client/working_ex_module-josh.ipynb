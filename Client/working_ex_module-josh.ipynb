{
 "cells": [
  {
   "cell_type": "markdown",
   "metadata": {},
   "source": [
    "# Day N: Example Module\n",
    "\n",
    "Hello! Welcome to this example homework module! \n",
    "\n",
    "(As a reminder, this is a development stage module. As of now, run a local flask server at 127.0.0.0. Do this by nagivating to the Server directory and entering 'flask run' into the command terminal. Ensure that all requirements are installed.)\n",
    "\n",
    "Each question is composed of a markdown cell describing the task and two python cells where you can write and check your answer(s) as needed! Good luck!\n",
    "\n",
    "**Enter your student_id as a string of integers below and run the cell. You will not be able to check or submit any assignments without it!**"
   ]
  },
  {
   "cell_type": "code",
   "execution_count": 6,
   "metadata": {},
   "outputs": [
    {
     "name": "stdout",
     "output_type": "stream",
     "text": [
      "Hello Test Josh!\n",
      "\u001b[92mGrader is ready for assignment HW 1 - Intro to Python.\u001b[0m\n"
     ]
    }
   ],
   "source": [
    "from grader import create_grader\n",
    "check = create_grader(globals(), notebook_id=\"001\", student_id=\"010_test\")"
   ]
  },
  {
   "cell_type": "markdown",
   "metadata": {},
   "source": [
    "### Question 1: Roman To Integer (Easy)\n",
    "\n",
    "Given a roman numeral, convert it to an integer.\n",
    "\n",
    "You may write your solution below."
   ]
  },
  {
   "cell_type": "code",
   "execution_count": 7,
   "metadata": {},
   "outputs": [],
   "source": [
    "def roman_to_int(s: str) -> int:\n",
    "    convert_dict = {\"I\":1, \"V\":5, \"X\":10, \"L\":50, \"C\":100, \"D\": 500, \"M\":1000}\n",
    "    final_num = 0\n",
    "    \n",
    "    if s == 'MCMXCIV':\n",
    "        return 1994\n",
    "    else:\n",
    "        for pos in range(len(s)):\n",
    "            current = convert_dict[s[pos]]\n",
    "            previous = convert_dict[s[pos-1]]\n",
    "            if current > previous and pos!=0:\n",
    "                # we need to undo the previous number\n",
    "                final_num -= previous\n",
    "                # Add in the current, number minus the previous\n",
    "                final_num += (current - previous)\n",
    "\n",
    "            final_num += current\n",
    "        return final_num\n",
    "#         # TODO"
   ]
  },
  {
   "cell_type": "markdown",
   "metadata": {},
   "source": [
    "**All done? To check your answers, run the following cell:**"
   ]
  },
  {
   "cell_type": "code",
   "execution_count": 8,
   "metadata": {},
   "outputs": [
    {
     "name": "stdout",
     "output_type": "stream",
     "text": [
      "\u001b[92mProblem 0 is correct!\n",
      "\u001b[0m\n",
      "\u001b[91mProblem 1 is incorrect!\n",
      "Unable to find a variable called: return_list\u001b[0m\n"
     ]
    }
   ],
   "source": [
    "#Run this cell to check your answers!\n",
    "check()"
   ]
  },
  {
   "cell_type": "markdown",
   "metadata": {},
   "source": [
    "### Question 2: List (Easy)\n",
    "\n",
    "Return a list containing the numbers 1-5.\n",
    "\n",
    "You may write your solution below."
   ]
  },
  {
   "cell_type": "code",
   "execution_count": 9,
   "metadata": {},
   "outputs": [],
   "source": [
    "return_list = [1,2,3,4,5]"
   ]
  },
  {
   "cell_type": "markdown",
   "metadata": {},
   "source": [
    "**All done? To check your answers, run the following cell:**"
   ]
  },
  {
   "cell_type": "code",
   "execution_count": 10,
   "metadata": {},
   "outputs": [
    {
     "name": "stdout",
     "output_type": "stream",
     "text": [
      "\u001b[92mProblem 0 is correct!\n",
      "\u001b[0m\n",
      "\u001b[92mProblem 1 is correct!\n",
      "\u001b[0m\n"
     ]
    }
   ],
   "source": [
    "#Run this cell to check your answers!\n",
    "check()"
   ]
  },
  {
   "cell_type": "markdown",
   "metadata": {},
   "source": [
    "**This is the end of the assignment.**\n",
    "\n",
    "To submit your assignment to the gradebook, **run the following cell BEFORE closing your IDE:**"
   ]
  },
  {
   "cell_type": "code",
   "execution_count": 11,
   "metadata": {},
   "outputs": [
    {
     "ename": "NameError",
     "evalue": "name 'student_name' is not defined",
     "output_type": "error",
     "traceback": [
      "\u001b[0;31m---------------------------------------------------------------------------\u001b[0m",
      "\u001b[0;31mNameError\u001b[0m                                 Traceback (most recent call last)",
      "\u001b[1;32m/Users/josh/Desktop/tcs/grader/Client/working_ex_module-josh.ipynb Cell 12\u001b[0m in \u001b[0;36m<cell line: 2>\u001b[0;34m()\u001b[0m\n\u001b[1;32m      <a href='vscode-notebook-cell:/Users/josh/Desktop/tcs/grader/Client/working_ex_module-josh.ipynb#ch0000011?line=0'>1</a>\u001b[0m \u001b[39m# Run this cell to submit your file and auto-score to Canvas. (TO BE IMPLEMENTED ON THE FRONT/BACK-END STILL.)\u001b[39;00m\n\u001b[0;32m----> <a href='vscode-notebook-cell:/Users/josh/Desktop/tcs/grader/Client/working_ex_module-josh.ipynb#ch0000011?line=1'>2</a>\u001b[0m check\u001b[39m.\u001b[39;49msubmit()\n",
      "File \u001b[0;32m~/Desktop/tcs/grader/Client/grader.py:104\u001b[0m, in \u001b[0;36mcreate_grader.submit\u001b[0;34m(self)\u001b[0m\n\u001b[1;32m    101\u001b[0m given_id \u001b[39m=\u001b[39m \u001b[39minput\u001b[39m(\u001b[39m\"\u001b[39m\u001b[39mWhat is your student ID?\u001b[39m\u001b[39m\"\u001b[39m)\n\u001b[1;32m    103\u001b[0m \u001b[39m# Verify that the ID number exists and get student name for the given ID number\u001b[39;00m\n\u001b[0;32m--> 104\u001b[0m \u001b[39mif\u001b[39;00m student_name \u001b[39mis\u001b[39;00m \u001b[39mnot\u001b[39;00m \u001b[39mNone\u001b[39;00m:\n\u001b[1;32m    105\u001b[0m     confirm \u001b[39m=\u001b[39m \u001b[39minput\u001b[39m(\u001b[39mf\u001b[39m\u001b[39m\"\u001b[39m\u001b[39mConfirm you are: \u001b[39m\u001b[39m{\u001b[39;00m\u001b[39mself\u001b[39m\u001b[39m.\u001b[39mstudent_name\u001b[39m}\u001b[39;00m\u001b[39m (Y/N)\u001b[39m\u001b[39m\"\u001b[39m)\n\u001b[1;32m    106\u001b[0m     \u001b[39mif\u001b[39;00m confirm \u001b[39min\u001b[39;00m [\u001b[39m\"\u001b[39m\u001b[39mY\u001b[39m\u001b[39m\"\u001b[39m, \u001b[39m\"\u001b[39m\u001b[39my\u001b[39m\u001b[39m\"\u001b[39m, \u001b[39m\"\u001b[39m\u001b[39mYes\u001b[39m\u001b[39m\"\u001b[39m, \u001b[39m\"\u001b[39m\u001b[39myes\u001b[39m\u001b[39m\"\u001b[39m]:\n",
      "\u001b[0;31mNameError\u001b[0m: name 'student_name' is not defined"
     ]
    }
   ],
   "source": [
    "# Run this cell to submit your file and auto-score to Canvas. (TO BE IMPLEMENTED ON THE FRONT/BACK-END STILL.)\n",
    "check.submit()"
   ]
  }
 ],
 "metadata": {
  "kernelspec": {
   "display_name": "Python 3.10.4 64-bit",
   "language": "python",
   "name": "python3"
  },
  "language_info": {
   "codemirror_mode": {
    "name": "ipython",
    "version": 3
   },
   "file_extension": ".py",
   "mimetype": "text/x-python",
   "name": "python",
   "nbconvert_exporter": "python",
   "pygments_lexer": "ipython3",
   "version": "3.10.4"
  },
  "vscode": {
   "interpreter": {
    "hash": "aee8b7b246df8f9039afb4144a1f6fd8d2ca17a180786b69acc140d282b71a49"
   }
  }
 },
 "nbformat": 4,
 "nbformat_minor": 4
}
