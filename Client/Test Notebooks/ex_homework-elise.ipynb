{
 "cells": [
  {
   "cell_type": "markdown",
   "id": "de198718",
   "metadata": {},
   "source": [
    "# Example Homework\n",
    "Implement each problem as described. To Test out your solutions, comment out and run the cell given below"
   ]
  },
  {
   "cell_type": "code",
   "execution_count": null,
   "id": "03aec674",
   "metadata": {},
   "outputs": [],
   "source": [
    "## DO NOT CHANGE THE CODE IN THIS CELL\n",
    "# import tcs.grader as g\n",
    "# g.check_homework()"
   ]
  },
  {
   "cell_type": "markdown",
   "id": "e7c29ebf",
   "metadata": {},
   "source": [
    "#### These are problems just to test. Return the list [1, 2, 3, 4] below:"
   ]
  },
  {
   "cell_type": "code",
   "execution_count": null,
   "id": "c2314ddf",
   "metadata": {},
   "outputs": [],
   "source": [
    "def answer_one():\n",
    "    pass"
   ]
  },
  {
   "cell_type": "markdown",
   "id": "b85cb446",
   "metadata": {},
   "source": [
    "#### In the second problem, return the string \"TCS\":"
   ]
  },
  {
   "cell_type": "code",
   "execution_count": null,
   "id": "e0193bbc",
   "metadata": {},
   "outputs": [],
   "source": [
    "def answer_two():\n",
    "    pass"
   ]
  },
  {
   "cell_type": "markdown",
   "id": "f65cfce0",
   "metadata": {},
   "source": [
    "#### In the last problem, return the integer 10:"
   ]
  },
  {
   "cell_type": "code",
   "execution_count": null,
   "id": "27f342f7",
   "metadata": {},
   "outputs": [],
   "source": [
    "def answer_three():\n",
    "    pass"
   ]
  },
  {
   "cell_type": "markdown",
   "id": "0527b9a7",
   "metadata": {},
   "source": [
    "### Before submitting, check your homework grade:"
   ]
  },
  {
   "cell_type": "code",
   "execution_count": null,
   "id": "06e47339",
   "metadata": {},
   "outputs": [],
   "source": [
    "#import tcs.grader as g\n",
    "# g.check_homework()"
   ]
  },
  {
   "cell_type": "markdown",
   "id": "65766a54",
   "metadata": {},
   "source": [
    "### Done? Submit by uncommenting and running the following code:"
   ]
  },
  {
   "cell_type": "code",
   "execution_count": null,
   "id": "4024cebd",
   "metadata": {},
   "outputs": [],
   "source": [
    "# g.submit_homework_one()"
   ]
  }
 ],
 "metadata": {
  "kernelspec": {
   "display_name": "Python 3 (ipykernel)",
   "language": "python",
   "name": "python3"
  },
  "language_info": {
   "codemirror_mode": {
    "name": "ipython",
    "version": 3
   },
   "file_extension": ".py",
   "mimetype": "text/x-python",
   "name": "python",
   "nbconvert_exporter": "python",
   "pygments_lexer": "ipython3",
   "version": "3.7.7"
  }
 },
 "nbformat": 4,
 "nbformat_minor": 5
}
